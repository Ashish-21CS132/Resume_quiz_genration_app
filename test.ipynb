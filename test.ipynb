{
 "cells": [
  {
   "cell_type": "code",
   "execution_count": 6,
   "metadata": {},
   "outputs": [],
   "source": [
    "import os\n",
    "import streamlit as st\n",
    "import PyPDF2\n",
    "import re\n",
    "from langchain_openai import OpenAI\n",
    "from langchain.prompts import PromptTemplate\n",
    "from langchain.chains import LLMChain\n",
    "from langchain_core.pydantic_v1 import BaseModel, Field\n",
    "from typing import List\n",
    "from langchain.output_parsers import PydanticOutputParser\n",
    "from langchain_core.caches import InMemoryCache\n",
    "import langchain\n",
    "from langchain_openai import ChatOpenAI\n",
    "from langchain_core.globals import set_llm_cache\n",
    "\n",
    "\n",
    "# Set OpenAI API key from environment variable\n",
    "os.environ[\"OPENAI_API_KEY\"] = os.getenv(\"OPENAI_API_KEY\")"
   ]
  },
  {
   "cell_type": "code",
   "execution_count": 21,
   "metadata": {},
   "outputs": [],
   "source": [
    "def extract_info_from_pdf_new(pdf_file):\n",
    "    # Read PDF content\n",
    "    reader = PyPDF2.PdfReader(pdf_file)\n",
    "    resume_text = \"\"\n",
    "    for page in reader.pages:\n",
    "        resume_text += page.extract_text()\n",
    "\n",
    "    openai_llm = ChatOpenAI(model=\"gpt-4o-mini\", max_tokens=1000, temperature=0.7)\n",
    "\n",
    "    prompt_template_resume = PromptTemplate(\n",
    "        input_variables=[\"resume_text\"],\n",
    "        template=\"\"\"\n",
    "        Extract only the skills section from the given resume. If a skills section is not clearly defined, extract the most relevant information related to skills.\n",
    "        Provide a maximum of 10 most relevant and important skills.\n",
    "\n",
    "        Resume:\n",
    "        {resume_text}\n",
    "\n",
    "        Please provide the extracted information in the following format:\n",
    "\n",
    "        Skills:\n",
    "        [List of up to 10 skills, one per line]\n",
    "        \"\"\",\n",
    "    )\n",
    "\n",
    "    # Set up LLMChain for the skills extraction\n",
    "    extraction_chain = LLMChain(llm=openai_llm, prompt=prompt_template_resume)\n",
    "\n",
    "    # Get the extracted skills by running the chain\n",
    "    extracted_skills = extraction_chain.run({\"resume_text\": resume_text})\n",
    "\n",
    "    # Extract the skills list, remove hyphens, and limit to 15 skills\n",
    "    skills_section = extracted_skills.split(\"Skills:\")[1].strip()\n",
    "    skills_list = [skill.strip().lstrip('- ') for skill in skills_section.split(\"\\n\") if skill.strip()][:10]\n",
    "\n",
    "    # If skills_list is empty, use a default list of skills\n",
    "    if not skills_list:\n",
    "        skills_list = [\"C++\", \"Python\", \"Java\"]\n",
    "\n",
    "    return list(set(skills_list))"
   ]
  },
  {
   "cell_type": "code",
   "execution_count": 22,
   "metadata": {},
   "outputs": [],
   "source": [
    "skill_list=extract_info_from_pdf_new(\"Ashish_Resume_ATS.pdf\")"
   ]
  },
  {
   "cell_type": "code",
   "execution_count": 23,
   "metadata": {},
   "outputs": [
    {
     "data": {
      "text/plain": [
       "['Python',\n",
       " 'Generative AI',\n",
       " 'MongoDB',\n",
       " 'OpenAI',\n",
       " 'FastAPI',\n",
       " 'Docker',\n",
       " 'API Integration',\n",
       " 'AWS',\n",
       " 'SQL',\n",
       " 'Flask']"
      ]
     },
     "execution_count": 23,
     "metadata": {},
     "output_type": "execute_result"
    }
   ],
   "source": [
    "skill_list"
   ]
  },
  {
   "cell_type": "code",
   "execution_count": 3,
   "metadata": {},
   "outputs": [],
   "source": [
    "file_path = \"./logical.txt\"\n",
    "def read_file(file_path):\n",
    "    try:\n",
    "        with open(file_path, \"r\") as file:\n",
    "            data = file.read()  # Read the entire file\n",
    "            # print (\"data\",data)\n",
    "            return data\n",
    "    except FileNotFoundError:\n",
    "        print(\"File not found.\")\n",
    "        \n",
    "def generate_questions(skills_with_scale):\n",
    "    # Read logical reasoning questions from file\n",
    "    logical_questions = read_file(file_path)\n",
    "    if not logical_questions:\n",
    "        print(\"Logical questions not loaded properly.\")\n",
    "        return\n",
    "\n",
    "    print(\"Logical questions loaded successfully.\")\n",
    "\n",
    "    llm = ChatOpenAI(model=\"gpt-4o\", max_tokens=4000, temperature=0.7)\n",
    "\n",
    "    class Question(BaseModel):\n",
    "        question: str = Field(description=\"The text of the quiz question\")\n",
    "        options: List[str] = Field(\n",
    "            description=\"The multiple-choice options for the quiz question\"\n",
    "        )\n",
    "        correct_answer: str = Field(\n",
    "            description=\"The correct text answer for the quiz question\"\n",
    "        )\n",
    "\n",
    "    class Category(BaseModel):\n",
    "        category: str = Field(description=\"The category of the quiz questions\")\n",
    "        questions: List[Question] = Field(\n",
    "            description=\"List of questions under the category\"\n",
    "        )\n",
    "\n",
    "    class Quiz(BaseModel):\n",
    "        quiz: List[Category] = Field(\n",
    "            description=\"The list of quiz categories with questions\"\n",
    "        )\n",
    "\n",
    "    parser = PydanticOutputParser(pydantic_object=Quiz)\n",
    "\n",
    "    prompt_template = PromptTemplate(\n",
    "        input_variables=[\n",
    "            \n",
    "            \"skills\",\n",
    "            # \"experience\",\n",
    "            # \"projects\",\n",
    "            \"logical_questions\",\n",
    "        ],\n",
    "        template=\"\"\"\n",
    "        You are an expert in creating advanced educational content. Based on the following information, generate a challenging quiz with multiple-choice questions (MCQs) focused on the categories listed. Ensure each question has four answer options (labeled A, B, C, D) and only one correct answer.\n",
    "\n",
    "        \n",
    "        Skills with Scale: {skills}\n",
    "        \n",
    "\n",
    "        Categories and Number of Questions:\n",
    "        1. Logical Reasoning Questions (10 questions):\n",
    "           - Use the following pre-existing logical reasoning questions. Choose 10 questions randomly from the provided list:\n",
    "\n",
    "           {logical_questions}\n",
    "\n",
    "           - Do not modify the selected questions in any way. Use them exactly as provided, including options and correct answers.\n",
    "           - Ensure that the chosen questions are diverse and cover different types of logical reasoning.\n",
    "        \n",
    "       \n",
    "        2. Technical Skills Questions (20 questions):\n",
    "           - Generate medium to advanced level questions based on the skills provided.\n",
    "           - Distribute the 20 questions evenly among all the skills. If the number of skills doesn't divide evenly into 20, allocate extra questions to skills with higher scale values.\n",
    "           - Create complex questions that require in-depth knowledge and application of the skills listed.\n",
    "           - Focus on practical scenarios, problem-solving, and critical thinking relevant to the job role.\n",
    "           - Include a mix of:\n",
    "             a) Scenario-based questions that require analysis and decision-making\n",
    "             b) Code snippet questions (where applicable) that test understanding of syntax and best practices\n",
    "             c) Questions about advanced features or recent developments in the relevant technologies\n",
    "             d) Problem-solving questions that require combining multiple concepts within a skill area\n",
    "           - Ensure questions cover a range of topics from the provided skills, emphasizing those with higher skill scales.\n",
    "           - Avoid overly basic or introductory-level questions.\n",
    "\n",
    "        Instructions:\n",
    "        - For Logical Reasoning Questions: Use the provided questions exactly as they are. Choose questions randomly, not sequentially.\n",
    "        - For Technical Skills Questions: Create new, relevant questions based on the skills provided.\n",
    "        - Ensure all questions are challenging and aligned with the advanced skill level required for the job position.\n",
    "        - Strictly adhere to the specified number of questions for each category.\n",
    "        - Each question must be directly relevant to the skills provided.\n",
    "        - Design questions to test deep knowledge, critical thinking, and problem-solving abilities.\n",
    "        - Provide a brief explanation for the correct answer after each technical skills question.\n",
    "\n",
    "        Format the output as a JSON object with the structure defined by the following Pydantic models:\n",
    "\n",
    "        {format_instructions}\n",
    "    \"\"\",\n",
    "        partial_variables={\"format_instructions\": parser.get_format_instructions()},\n",
    "    )\n",
    "\n",
    "    # Create the LLM chain\n",
    "    chain = LLMChain(llm=llm, prompt=prompt_template)\n",
    "\n",
    "    # Generate the response\n",
    "    try:\n",
    "        response = chain.run(\n",
    "            {\n",
    "                \n",
    "                \"skills\": skills_with_scale,\n",
    "                # \"experience\": experience,\n",
    "                # \"projects\": projects,\n",
    "                \"logical_questions\": logical_questions,\n",
    "            }\n",
    "        )\n",
    "        print(\"LLM response generated successfully.\")\n",
    "\n",
    "        # testing\n",
    "        # test_case = LLMTestCase(input=prompt_template.template, actual_output=response)\n",
    "        # relevancy_metric = AnswerRelevancyMetric(threshold=0.5)\n",
    "\n",
    "        # relevancy_metric.measure(test_case)\n",
    "        # print(\"relevancy_metric_score=\",relevancy_metric.score)\n",
    "        # print(\"relevancy_metric_reason=\",relevancy_metric.reason)\n",
    "\n",
    "    except Exception as e:\n",
    "        print(\"Error during LLMChain execution:\", str(e))\n",
    "        return None\n",
    "\n",
    "    # Parse the response into the structured format\n",
    "    try:\n",
    "        parsed_response = parser.parse(response)\n",
    "        return parsed_response\n",
    "    except Exception as e:\n",
    "        print(\"Error parsing LLM response:\", str(e))\n",
    "        return None"
   ]
  },
  {
   "cell_type": "code",
   "execution_count": 4,
   "metadata": {},
   "outputs": [],
   "source": [
    "skills={\n",
    "    \"c++\": 8,\n",
    "    \"python\": 9,\n",
    "    \"java\": 7,\n",
    "    \"javascript\": 6,\n",
    "    \"html\": 5,\n",
    "}"
   ]
  },
  {
   "cell_type": "code",
   "execution_count": 7,
   "metadata": {},
   "outputs": [
    {
     "name": "stdout",
     "output_type": "stream",
     "text": [
      "Logical questions loaded successfully.\n"
     ]
    },
    {
     "name": "stderr",
     "output_type": "stream",
     "text": [
      "c:\\Users\\Acer\\Desktop\\Python-projects\\Hidevs-projects\\30_quiz\\venv\\Lib\\site-packages\\langchain_core\\_api\\deprecation.py:151: LangChainDeprecationWarning: The class `LLMChain` was deprecated in LangChain 0.1.17 and will be removed in 1.0. Use RunnableSequence, e.g., `prompt | llm` instead.\n",
      "  warn_deprecated(\n",
      "c:\\Users\\Acer\\Desktop\\Python-projects\\Hidevs-projects\\30_quiz\\venv\\Lib\\site-packages\\langchain_core\\_api\\deprecation.py:151: LangChainDeprecationWarning: The method `Chain.run` was deprecated in langchain 0.1.0 and will be removed in 1.0. Use invoke instead.\n",
      "  warn_deprecated(\n"
     ]
    },
    {
     "name": "stdout",
     "output_type": "stream",
     "text": [
      "LLM response generated successfully.\n"
     ]
    }
   ],
   "source": [
    "ans=generate_questions(skills)"
   ]
  },
  {
   "cell_type": "code",
   "execution_count": 8,
   "metadata": {},
   "outputs": [
    {
     "data": {
      "text/plain": [
       "Quiz(quiz=[Category(category='Logical Reasoning', questions=[Question(question='Given a Series -10, -8, 6, 40, 102, ? Find what number would come in place of the question mark(?).', options=['105', '200', '216', '129'], correct_answer='200'), Question(question='25 % of a number is 8 less than one-third of that number. Find the number.', options=['92', '85', '96', '90'], correct_answer='96'), Question(question='A man standing near a railway track observes that a train passes him in 80 seconds but to pass by a 180 m long bridge, the same train takes 200 seconds. Find the speed of the train.', options=['2 m/s', '3 m/s', '1 m/s', '1.5 m/s'], correct_answer='1.5 m/s'), Question(question='A boatman can row a boat upstream at 14 km/hr and downstream at 20 km/hr. Find the speed of the boat in still water.', options=['17 km/h', '15 km/h', '18 km/h', '20 km/h'], correct_answer='17 km/h'), Question(question='Rohan said to Rashmi, â€˜ your motherâ€™s husbandâ€™s sister is my aunt.â€™ How is Rashmi related to Rohan?', options=['Daugter', 'sister', 'mother', 'grand daughter'], correct_answer='sister'), Question(question='Find the number which will come in the place of the question mark in the given series 14, 25, 47, 91, 179, ?.', options=['255', '321', '355', '211'], correct_answer='355'), Question(question='A boatman can row a boat at the speed of 5 km/hr upstream and 15 km/hr downstream. Find the speed of the stream.', options=['5 km/h', '6 km/h', '8 km/h', '10 km/h'], correct_answer='5 km/h'), Question(question='A broker charges a commission of 5% on all orders up to Rs.10,000 and 4% on all orders exceeding Rs. 10,000. He remits Rs. 31,100 to his client after deducting his commission. Find the order amount.', options=['31908', '32500', '30070', '34600'], correct_answer='32500'), Question(question='Find the number which would come in place of question marks 3, 4, 7, 8, 11, 12,  ?, ?.', options=['13, 14', '18, 20', '15, 16', '19, 20'], correct_answer='15, 16'), Question(question='A is the father of C and D is the son of B. E is the brother of A if C is the sister of D, how is B related to E?', options=['sister in law', 'brother in law', 'brother', 'siser'], correct_answer='sister in law')]), Category(category='Technical Skills', questions=[Question(question='In C++, what is the output of the following code snippet?\\n```cpp\\n#include <iostream>\\nusing namespace std;\\nint main() {\\n    int x = 10;\\n    int y = 20;\\n    const int *ptr = &x;\\n    ptr = &y;\\n    cout << *ptr;\\n    return 0;\\n}\\n```', options=['10', '20', 'Compilation Error', 'Runtime Error'], correct_answer='20'), Question(question='Which of the following is a valid way to declare a lambda function in C++?', options=['auto add = [](int a, int b) { return a + b; };', 'lambda add = (int a, int b) { return a + b; };', 'auto add => { int a, int b; return a + b; };', 'function add = [](int a, int b) { return a + b; };'], correct_answer='auto add = [](int a, int b) { return a + b; };'), Question(question='In Python, what will be the output of the following code?\\n```python\\ndef func(x, y=[]):\\n    y.append(x)\\n    return y\\nprint(func(1))\\nprint(func(2))\\n```', options=['[1]\\n[2]', '[1]\\n[1, 2]', '[1, 1]\\n[2, 2]', '[1, 1]\\n[2, 1]'], correct_answer='[1]\\n[1, 2]'), Question(question='Which of the following is used to create a virtual environment in Python?', options=['virtualenv', 'pip install venv', 'python -m venv', 'create_env'], correct_answer='python -m venv'), Question(question='In Java, what is the output of the following code?\\n```java\\npublic class Test {\\n    public static void main(String[] args) {\\n        int a = 10;\\n        int b = 20;\\n        System.out.println(a++ + ++b);\\n    }\\n}\\n```', options=['31', '32', '30', '29'], correct_answer='31'), Question(question='Which of the following is true about the `final` keyword in Java?', options=['A `final` class cannot be subclassed.', 'A `final` method cannot be overridden.', 'A `final` variable can be assigned only once.', 'All of the above'], correct_answer='All of the above'), Question(question='In JavaScript, what will be the output of the following code?\\n```javascript\\nconsole.log(0.1 + 0.2 === 0.3);\\n```', options=['true', 'false', 'undefined', 'TypeError'], correct_answer='false'), Question(question='Which of the following is not a valid way to declare a variable in JavaScript?', options=['var x = 10;', 'let x = 10;', 'const x = 10;', 'variable x = 10;'], correct_answer='variable x = 10;'), Question(question='In HTML5, which of the following tags is used to embed a video?', options=['<video>', '<embed>', '<object>', '<iframe>'], correct_answer='<video>'), Question(question='Which of the following is a valid HTML5 doctype declaration?', options=['<!DOCTYPE HTML PUBLIC \"-//W3C//DTD HTML 4.01//EN\" \"http://www.w3.org/TR/html4/strict.dtd\">', '<!DOCTYPE html>', '<html>', '<!DOCTYPE HTML5>'], correct_answer='<!DOCTYPE html>'), Question(question='What will be the output of the following C++ code snippet?\\n```cpp\\n#include <iostream>\\nusing namespace std;\\nclass Base {\\npublic:\\n    virtual void show() { cout << \"Base\"; }\\n};\\nclass Derived : public Base {\\npublic:\\n    void show() override { cout << \"Derived\"; }\\n};\\nint main() {\\n    Base *b;\\n    Derived d;\\n    b = &d;\\n    b->show();\\n    return 0;\\n}\\n```', options=['Base', 'Derived', 'Compilation Error', 'Runtime Error'], correct_answer='Derived'), Question(question=\"In Python, which of the following is true about the 'map' function?\", options=[\"The 'map' function applies a given function to each item of an iterable and returns a list.\", \"The 'map' function applies a given function to each item of an iterable and returns a map object.\", \"The 'map' function applies a given function to each item of an iterable and returns a tuple.\", \"The 'map' function applies a given function to each item of an iterable and returns a set.\"], correct_answer=\"The 'map' function applies a given function to each item of an iterable and returns a map object.\"), Question(question='Which of the following is a valid way to create a thread in Java?', options=['Extend the Thread class.', 'Implement the Runnable interface.', 'Use the Executor framework.', 'All of the above.'], correct_answer='All of the above.'), Question(question='In JavaScript, which of the following methods is used to parse a JSON string?', options=['JSON.parse()', 'JSON.stringify()', 'JSON.toObject()', 'JSON.fromString()'], correct_answer='JSON.parse()'), Question(question=\"Which of the following is true about the 'const' keyword in JavaScript?\", options=[\"Variables declared with 'const' cannot be reassigned.\", \"Variables declared with 'const' cannot be mutated.\", \"Variables declared with 'const' are block-scoped.\", 'Both A and C.'], correct_answer='Both A and C.'), Question(question='In HTML, which attribute is used to specify an alternate text for an image, if the image cannot be displayed?', options=['alt', 'src', 'title', 'href'], correct_answer='alt'), Question(question='Which of the following is the correct way to include an external JavaScript file in HTML?', options=[\"<script src='filename.js'></script>\", \"<script href='filename.js'></script>\", \"<javascript src='filename.js'></javascript>\", \"<link rel='script' src='filename.js'>\"], correct_answer=\"<script src='filename.js'></script>\"), Question(question=\"In C++, what is the purpose of the 'decltype' keyword?\", options=['To define a new data type', 'To determine the type of an expression', 'To declare a constant variable', 'To cast a variable to a different type'], correct_answer='To determine the type of an expression'), Question(question='In Python, what will be the output of the following code?\\n```python\\nx = [1, 2, 3, 4]\\ny = [i**2 for i in x if i % 2 == 0]\\nprint(y)\\n```', options=['[1, 4, 9, 16]', '[4, 16]', '[2, 4]', '[1, 2, 3, 4]'], correct_answer='[4, 16]'), Question(question='Which of the following is true about the `this` keyword in Java?', options=['It refers to the current object.', 'It can be used to refer to the current class instance variable.', 'It can be used to invoke the current class method.', 'All of the above.'], correct_answer='All of the above.'), Question(question='In JavaScript, which method is used to add one or more elements to the end of an array?', options=['push()', 'pop()', 'shift()', 'unshift()'], correct_answer='push()')])])"
      ]
     },
     "execution_count": 8,
     "metadata": {},
     "output_type": "execute_result"
    }
   ],
   "source": [
    "ans"
   ]
  },
  {
   "cell_type": "code",
   "execution_count": null,
   "metadata": {},
   "outputs": [],
   "source": []
  }
 ],
 "metadata": {
  "kernelspec": {
   "display_name": "venv",
   "language": "python",
   "name": "python3"
  },
  "language_info": {
   "codemirror_mode": {
    "name": "ipython",
    "version": 3
   },
   "file_extension": ".py",
   "mimetype": "text/x-python",
   "name": "python",
   "nbconvert_exporter": "python",
   "pygments_lexer": "ipython3",
   "version": "3.12.2"
  }
 },
 "nbformat": 4,
 "nbformat_minor": 2
}
