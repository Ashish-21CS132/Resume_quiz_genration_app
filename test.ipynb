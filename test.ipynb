{
 "cells": [
  {
   "cell_type": "code",
   "execution_count": 1,
   "metadata": {},
   "outputs": [],
   "source": [
    "import os\n",
    "import streamlit as st\n",
    "import PyPDF2\n",
    "import re\n",
    "from langchain_openai import OpenAI\n",
    "from langchain.prompts import PromptTemplate\n",
    "from langchain.chains import LLMChain\n",
    "from langchain_core.pydantic_v1 import BaseModel, Field\n",
    "from typing import List\n",
    "from langchain.output_parsers import PydanticOutputParser\n",
    "from langchain_core.caches import InMemoryCache\n",
    "import langchain\n",
    "from langchain_openai import ChatOpenAI\n",
    "from langchain_core.globals import set_llm_cache\n",
    "\n",
    "\n",
    "# Set OpenAI API key from environment variable\n",
    "os.environ[\"OPENAI_API_KEY\"] = os.getenv(\"OPENAI_API_KEY\")"
   ]
  },
  {
   "cell_type": "code",
   "execution_count": 5,
   "metadata": {},
   "outputs": [],
   "source": [
    "def extract_info_from_pdf_new(pdf_file):\n",
    "    # print(\"file_path is :\",file_path)\n",
    "    # read_file(file_path)\n",
    "    # Read PDF content\n",
    "    reader = PyPDF2.PdfReader(pdf_file)\n",
    "    resume_text = \"\"\n",
    "    for page in reader.pages:\n",
    "        resume_text += page.extract_text()\n",
    "\n",
    "    openai_llm = ChatOpenAI(model=\"gpt-4o-mini\", max_tokens=1000, temperature=0.7)\n",
    "\n",
    "    prompt_template_resume = PromptTemplate(\n",
    "        input_variables=[\"resume_text\"],\n",
    "        template=\"\"\"\n",
    "        Extract the following sections from the given resume: skills, experience, and projects. If any section is not clearly defined, extract the most relevant information related to that section.\n",
    "\n",
    "        Resume:\n",
    "        {resume_text}\n",
    "\n",
    "        Please provide the extracted information in the following format:\n",
    "\n",
    "        Skills:\n",
    "        [Extracted skills information]\n",
    "\n",
    "        Experience:\n",
    "        [Extracted experience information]\n",
    "\n",
    "        Projects:\n",
    "        [Extracted projects information]\n",
    "        \"\"\",\n",
    "    )\n",
    "\n",
    "    # Set up LLMChain for the combined extraction\n",
    "    extraction_chain = LLMChain(llm=openai_llm, prompt=prompt_template_resume)\n",
    "\n",
    "    # Get the extracted information by running the chain\n",
    "    extracted_info = extraction_chain.run({\"resume_text\": resume_text})\n",
    "\n",
    "    # Split the extracted information into sections\n",
    "    sections = re.split(r\"\\n\\s*\\n\", extracted_info)\n",
    "\n",
    "    skills_section = next(\n",
    "        (s for s in sections if s.lower().strip().startswith(\"skills:\")), \"\"\n",
    "    )\n",
    "    experience_section = next(\n",
    "        (s for s in sections if s.lower().strip().startswith(\"experience:\")), \"\"\n",
    "    )\n",
    "    projects_section = next(\n",
    "        (s for s in sections if s.lower().strip().startswith(\"projects:\")), \"\"\n",
    "    )\n",
    "\n",
    "    # Extract specific skills\n",
    "    skills_list = re.findall(\n",
    "        r\"\\b(Java|Python|C|C\\+\\+|JavaScript|MySQL|PostgreSQL|HTML|CSS|AWS|Django|React|NodeJS|ExpressJS|Docker|Langchain|fastapi|flask|MongoDB|Machine Learning)\\b\",\n",
    "        skills_section,\n",
    "        re.IGNORECASE,\n",
    "    )\n",
    "\n",
    "    # If skills_list is empty, use all words in the skills section as skills\n",
    "    if not skills_list:\n",
    "        # skills_list = re.findall(r\"\\b\\w+\\b\", skills_section.replace(\"Skills:\", \"\"))\n",
    "        skills_list = [\"C++\", \"Python\", \"Java\"]\n",
    "\n",
    "    return (\n",
    "        list(set(skills_list)),\n",
    "        experience_section.replace(\"Experience:\", \"\").strip(),\n",
    "        projects_section.replace(\"Projects:\", \"\").strip(),\n",
    "    )\n"
   ]
  },
  {
   "cell_type": "code",
   "execution_count": 8,
   "metadata": {},
   "outputs": [],
   "source": [
    "skill_list,b,c=extract_info_from_pdf_new(\"Ashish_Resume_ATS.pdf\")"
   ]
  },
  {
   "cell_type": "code",
   "execution_count": 9,
   "metadata": {},
   "outputs": [
    {
     "data": {
      "text/plain": [
       "['Python',\n",
       " 'C',\n",
       " 'ExpressJS',\n",
       " 'MongoDB',\n",
       " 'Javascript',\n",
       " 'FastAPI',\n",
       " 'HTML',\n",
       " 'Docker',\n",
       " 'MySQL',\n",
       " 'PostgreSQL',\n",
       " 'CSS',\n",
       " 'Flask']"
      ]
     },
     "execution_count": 9,
     "metadata": {},
     "output_type": "execute_result"
    }
   ],
   "source": [
    "skill_list"
   ]
  },
  {
   "cell_type": "code",
   "execution_count": null,
   "metadata": {},
   "outputs": [],
   "source": []
  }
 ],
 "metadata": {
  "kernelspec": {
   "display_name": "venv",
   "language": "python",
   "name": "python3"
  },
  "language_info": {
   "codemirror_mode": {
    "name": "ipython",
    "version": 3
   },
   "file_extension": ".py",
   "mimetype": "text/x-python",
   "name": "python",
   "nbconvert_exporter": "python",
   "pygments_lexer": "ipython3",
   "version": "3.12.2"
  }
 },
 "nbformat": 4,
 "nbformat_minor": 2
}
