{
 "cells": [
  {
   "cell_type": "code",
   "execution_count": 1,
   "metadata": {},
   "outputs": [],
   "source": [
    "import os\n",
    "import streamlit as st\n",
    "import PyPDF2\n",
    "import re\n",
    "from langchain_openai import OpenAI\n",
    "from langchain.prompts import PromptTemplate\n",
    "from langchain.chains import LLMChain\n",
    "from langchain_core.pydantic_v1 import BaseModel, Field\n",
    "from typing import List\n",
    "from langchain.output_parsers import PydanticOutputParser\n",
    "from langchain_core.caches import InMemoryCache\n",
    "import langchain\n",
    "from langchain_openai import ChatOpenAI\n",
    "from langchain_core.globals import set_llm_cache\n",
    "\n",
    "\n",
    "# Set OpenAI API key from environment variable\n",
    "os.environ[\"OPENAI_API_KEY\"] = os.getenv(\"OPENAI_API_KEY\")"
   ]
  },
  {
   "cell_type": "code",
   "execution_count": 21,
   "metadata": {},
   "outputs": [],
   "source": [
    "def extract_info_from_pdf_new(pdf_file):\n",
    "    # Read PDF content\n",
    "    reader = PyPDF2.PdfReader(pdf_file)\n",
    "    resume_text = \"\"\n",
    "    for page in reader.pages:\n",
    "        resume_text += page.extract_text()\n",
    "\n",
    "    openai_llm = ChatOpenAI(model=\"gpt-4o-mini\", max_tokens=1000, temperature=0.7)\n",
    "\n",
    "    prompt_template_resume = PromptTemplate(\n",
    "        input_variables=[\"resume_text\"],\n",
    "        template=\"\"\"\n",
    "        Extract only the skills section from the given resume. If a skills section is not clearly defined, extract the most relevant information related to skills.\n",
    "        Provide a maximum of 10 most relevant and important skills.\n",
    "\n",
    "        Resume:\n",
    "        {resume_text}\n",
    "\n",
    "        Please provide the extracted information in the following format:\n",
    "\n",
    "        Skills:\n",
    "        [List of up to 10 skills, one per line]\n",
    "        \"\"\",\n",
    "    )\n",
    "\n",
    "    # Set up LLMChain for the skills extraction\n",
    "    extraction_chain = LLMChain(llm=openai_llm, prompt=prompt_template_resume)\n",
    "\n",
    "    # Get the extracted skills by running the chain\n",
    "    extracted_skills = extraction_chain.run({\"resume_text\": resume_text})\n",
    "\n",
    "    # Extract the skills list, remove hyphens, and limit to 15 skills\n",
    "    skills_section = extracted_skills.split(\"Skills:\")[1].strip()\n",
    "    skills_list = [skill.strip().lstrip('- ') for skill in skills_section.split(\"\\n\") if skill.strip()][:10]\n",
    "\n",
    "    # If skills_list is empty, use a default list of skills\n",
    "    if not skills_list:\n",
    "        skills_list = [\"C++\", \"Python\", \"Java\"]\n",
    "\n",
    "    return list(set(skills_list))"
   ]
  },
  {
   "cell_type": "code",
   "execution_count": 22,
   "metadata": {},
   "outputs": [],
   "source": [
    "skill_list=extract_info_from_pdf_new(\"Ashish_Resume_ATS.pdf\")"
   ]
  },
  {
   "cell_type": "code",
   "execution_count": 23,
   "metadata": {},
   "outputs": [
    {
     "data": {
      "text/plain": [
       "['Python',\n",
       " 'Generative AI',\n",
       " 'MongoDB',\n",
       " 'OpenAI',\n",
       " 'FastAPI',\n",
       " 'Docker',\n",
       " 'API Integration',\n",
       " 'AWS',\n",
       " 'SQL',\n",
       " 'Flask']"
      ]
     },
     "execution_count": 23,
     "metadata": {},
     "output_type": "execute_result"
    }
   ],
   "source": [
    "skill_list"
   ]
  },
  {
   "cell_type": "code",
   "execution_count": null,
   "metadata": {},
   "outputs": [],
   "source": []
  }
 ],
 "metadata": {
  "kernelspec": {
   "display_name": "venv",
   "language": "python",
   "name": "python3"
  },
  "language_info": {
   "codemirror_mode": {
    "name": "ipython",
    "version": 3
   },
   "file_extension": ".py",
   "mimetype": "text/x-python",
   "name": "python",
   "nbconvert_exporter": "python",
   "pygments_lexer": "ipython3",
   "version": "3.12.2"
  }
 },
 "nbformat": 4,
 "nbformat_minor": 2
}
